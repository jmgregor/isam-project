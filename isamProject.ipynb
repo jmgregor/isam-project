{
 "metadata": {
  "language_info": {
   "codemirror_mode": {
    "name": "ipython",
    "version": 3
   },
   "file_extension": ".py",
   "mimetype": "text/x-python",
   "name": "python",
   "nbconvert_exporter": "python",
   "pygments_lexer": "ipython3",
   "version": "3.7.6-final"
  },
  "orig_nbformat": 2,
  "kernelspec": {
   "name": "Python 3.7.6 64-bit ('jmgregor': conda)",
   "display_name": "Python 3.7.6 64-bit ('jmgregor': conda)",
   "metadata": {
    "interpreter": {
     "hash": "110d03f859700775f2e0f6d1fe40b73437f7728d647c16b99c5b02c25376f55a"
    }
   }
  }
 },
 "nbformat": 4,
 "nbformat_minor": 2,
 "cells": [
  {
   "cell_type": "markdown",
   "metadata": {},
   "source": [
    "Detector Modeling Project\n",
    " by Jared Gregor\n"
   ]
  },
  {
   "cell_type": "code",
   "execution_count": 1,
   "metadata": {},
   "outputs": [],
   "source": [
    "import math"
   ]
  },
  {
   "cell_type": "code",
   "execution_count": null,
   "metadata": {},
   "outputs": [],
   "source": [
    "# Equation 1\n",
    "def P(k, q):\n",
    "    return (math.exp(-q)*q**-k) / math.factorial(k)\n",
    "\n",
    "# Equation 2\n",
    "def detectorSaturated(L, q)\n",
    "\n",
    "    for k in range(L, math.inf):\n",
    "        sum"
   ]
  },
  {
   "cell_type": "code",
   "execution_count": null,
   "metadata": {
    "tags": []
   },
   "outputs": [],
   "source": [
    "q = 3 # Mean number of photons\n",
    "k = 0 # Actual number of photons\n"
   ]
  }
 ]
}